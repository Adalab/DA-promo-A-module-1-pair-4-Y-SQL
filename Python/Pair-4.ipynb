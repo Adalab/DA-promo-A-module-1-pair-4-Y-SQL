{
 "cells": [
  {
   "cell_type": "code",
   "execution_count": 37,
   "metadata": {},
   "outputs": [
    {
     "ename": "SyntaxError",
     "evalue": "invalid syntax (1021789069.py, line 35)",
     "output_type": "error",
     "traceback": [
      "\u001b[0;36m  File \u001b[0;32m\"/var/folders/cc/w29nscnn2p75y27g1lx9hz000000gn/T/ipykernel_24508/1021789069.py\"\u001b[0;36m, line \u001b[0;32m35\u001b[0m\n\u001b[0;31m    print('Terminamos el juego. La palabra era', word_secreta)\u001b[0m\n\u001b[0m    ^\u001b[0m\n\u001b[0;31mSyntaxError\u001b[0m\u001b[0;31m:\u001b[0m invalid syntax\n"
     ]
    }
   ],
   "source": [
    "import random\n",
    "\n",
    "words = {'Colors':'red orange yellow green blue indigo violet white black brown'.split(),\n",
    "'Shapes':'square triangle rectangle circle ellipse rhombus trapezoid chevron pentagon hexagon septagon octagon'.split(),\n",
    "'Fruits':'apple orange lemon lime pear watermelon grape grapefruit cherry banana cantaloupe mango strawberry tomato'.split(),\n",
    "'Animals':'bat bear beaver cat cougar crab deer dog donkey duck eagle fish frog goat leech lion lizard monkey moose mouse otter owl panda python rabbit rat shark sheep skunk squid tiger turkey turtle weasel whale wolf wombat zebra'.split()}\n",
    "\n",
    "# Variables predefinidas\n",
    "\n",
    "# Inicio del juego\n",
    "\n",
    "print('¡Comenzamos el juego!')\n",
    "print('Elige una de las siguientes categorías, usando su número')\n",
    "\n",
    "# Elegir una categoria\n",
    "categoria = int(input('1:Colors,' '2:Shapes,' '3:Fruits,' '4:Animals'))\n",
    "print('Elegiste la categoría', categoria)\n",
    "\n",
    "# El ordenador elige una palabra de la categoria\n",
    "words.keys()\n",
    "\n",
    "word_list = [words.keys()]\n",
    "word_secreta = random.randint(0, len(word_list)-1)\n",
    "\n",
    "# Adivinar una palabra\n",
    "print('Adivina una palabra de la categoría')\n",
    "palabra = input('Elige una de las palabras de la categoría')\n",
    "print(palabra)\n",
    "\n",
    "# ¿Era la palabra aleatoria?\n",
    "print('¿Era la palabra que buscábamos?')\n",
    "print(bool(palabra == (word_secreta in word_list))\n",
    "\n",
    "# Fin del juego\n",
    "print('Terminamos el juego. La palabra era', word_secreta)"
   ]
  }
 ],
 "metadata": {
  "interpreter": {
   "hash": "9df72549cec875d35faaa50875d444b10c11452b268975a17c9dc6870f43870f"
  },
  "kernelspec": {
   "display_name": "Python 3.9.7 ('base')",
   "language": "python",
   "name": "python3"
  },
  "language_info": {
   "codemirror_mode": {
    "name": "ipython",
    "version": 3
   },
   "file_extension": ".py",
   "mimetype": "text/x-python",
   "name": "python",
   "nbconvert_exporter": "python",
   "pygments_lexer": "ipython3",
   "version": "3.9.7"
  },
  "orig_nbformat": 4
 },
 "nbformat": 4,
 "nbformat_minor": 2
}
