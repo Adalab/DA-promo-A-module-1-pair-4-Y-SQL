{
 "cells": [
  {
   "cell_type": "code",
   "execution_count": 29,
   "metadata": {},
   "outputs": [
    {
     "name": "stdout",
     "output_type": "stream",
     "text": [
      "¡Comencemos el juego!\n",
      "La lista tiene 15 números entre 0 a 20.\n",
      "El usuario adivinó: 15\n",
      "False\n",
      "Estaba en el sitio 8, índice 7.\n",
      "Terminamos el juego. La lista era [13, 10, 18, 9, 14, 3, 1, 11, 0, 6, 5, 19, 4, 16, 2]\n"
     ]
    }
   ],
   "source": [
    "import random\n",
    "\n",
    "# Variables numéricas\n",
    "index = -1\n",
    "\n",
    "# Cadenas fijas de texto\n",
    "print('¡Comencemos el juego!')\n",
    "print('La lista tiene 15 números entre 0 a 20.')\n",
    "\n",
    "# User input\n",
    "intento = int(input('Introduzca el número elegido'))\n",
    "print('El usuario adivinó:', intento)\n",
    "\n",
    "lista_numeros = [13, 10, 18, 9, 14, 3, 1, 11, 0, 6, 5, 19, 4, 16, 2]\n",
    "longitud_lista = len(lista_numeros)\n",
    "lim_inferior = min(lista_numeros)\n",
    "lim_superior = max(lista_numeros)\n",
    "\n",
    "# Cantidades calculadas\n",
    "num_list = random.sample(range(lim_inferior, lim_superior), longitud_lista)\n",
    "\n",
    "# Inicio del juego\n",
    "\n",
    "# Propiedades de la lista aleatoria\n",
    "\n",
    "# Han adivinado un elemento?\n",
    "print(intento in lista_numeros)\n",
    "\n",
    "\n",
    "# Si adivinaron uno, dónde estaba?\n",
    "if num_list.count(intento): index = num_list.index(intento)\n",
    "if index >= 0: print(\"Estaba en el sitio\", str(index+1) + \", índice\", str(index)+\".\")\n",
    "\n",
    "\n",
    "print('Terminamos el juego. La lista era', lista_numeros)\n",
    "# Fin del juego"
   ]
  }
 ],
 "metadata": {
  "interpreter": {
   "hash": "31f2aee4e71d21fbe5cf8b01ff0e069b9275f58929596ceb00d14d90e3e16cd6"
  },
  "kernelspec": {
   "display_name": "Python 3.8.9 64-bit",
   "language": "python",
   "name": "python3"
  },
  "language_info": {
   "codemirror_mode": {
    "name": "ipython",
    "version": 3
   },
   "file_extension": ".py",
   "mimetype": "text/x-python",
   "name": "python",
   "nbconvert_exporter": "python",
   "pygments_lexer": "ipython3",
   "version": "3.8.9"
  },
  "orig_nbformat": 4
 },
 "nbformat": 4,
 "nbformat_minor": 2
}
